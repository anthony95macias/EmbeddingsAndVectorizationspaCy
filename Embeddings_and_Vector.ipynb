{
  "nbformat": 4,
  "nbformat_minor": 0,
  "metadata": {
    "colab": {
      "provenance": []
    },
    "kernelspec": {
      "name": "python3",
      "display_name": "Python 3"
    },
    "language_info": {
      "name": "python"
    }
  },
  "cells": [
    {
      "cell_type": "markdown",
      "source": [
        "## Vector Basics"
      ],
      "metadata": {
        "id": "3r18BvHDwUHT"
      }
    },
    {
      "cell_type": "code",
      "source": [
        "import numpy as np"
      ],
      "metadata": {
        "id": "-CUi8X21jQwD"
      },
      "execution_count": null,
      "outputs": []
    },
    {
      "cell_type": "code",
      "source": [
        "vector1 = np.array([1,0])\n",
        "vector2 = np.array([0,1])"
      ],
      "metadata": {
        "id": "LBVBrSktjTzD"
      },
      "execution_count": null,
      "outputs": []
    },
    {
      "cell_type": "code",
      "source": [
        "output = f\"Vector 1: {vector1}, Vector 2: {vector2}\"\n",
        "\n",
        "# Print the formatted string\n",
        "print(output)"
      ],
      "metadata": {
        "colab": {
          "base_uri": "https://localhost:8080/"
        },
        "id": "rfLXkw39jged",
        "outputId": "0e586e2b-1162-4abb-a844-d62e94da1952"
      },
      "execution_count": null,
      "outputs": [
        {
          "output_type": "stream",
          "name": "stdout",
          "text": [
            "Vector 1: [1 0], Vector 2: [0 1]\n"
          ]
        }
      ]
    },
    {
      "cell_type": "code",
      "source": [
        "v1 = np.array([1,0])\n",
        "v2 = np.array([0,1])\n",
        "v3 = np.array([np.sqrt(2), np.sqrt(2)])"
      ],
      "metadata": {
        "id": "UZwi4KnXwaeR"
      },
      "execution_count": null,
      "outputs": []
    },
    {
      "cell_type": "code",
      "source": [
        "#Demension\n",
        "v1.shape"
      ],
      "metadata": {
        "colab": {
          "base_uri": "https://localhost:8080/"
        },
        "id": "3DTaapWexOAT",
        "outputId": "51a16a1d-e24a-49cb-be3d-5d1415c1364b"
      },
      "execution_count": null,
      "outputs": [
        {
          "output_type": "execute_result",
          "data": {
            "text/plain": [
              "(2,)"
            ]
          },
          "metadata": {},
          "execution_count": 14
        }
      ]
    },
    {
      "cell_type": "code",
      "source": [
        "#Magntitude\n",
        "np.sqrt(np.sum(v1**2))\n",
        "\n",
        "np.linalg.norm(v1)"
      ],
      "metadata": {
        "colab": {
          "base_uri": "https://localhost:8080/"
        },
        "id": "Z0IlRU9bxSfB",
        "outputId": "724c4150-c16b-46cb-8ae7-e3e16f0f8558"
      },
      "execution_count": null,
      "outputs": [
        {
          "output_type": "execute_result",
          "data": {
            "text/plain": [
              "1.0"
            ]
          },
          "metadata": {},
          "execution_count": 20
        }
      ]
    },
    {
      "cell_type": "code",
      "source": [
        "np.linalg.norm(v3)"
      ],
      "metadata": {
        "colab": {
          "base_uri": "https://localhost:8080/"
        },
        "id": "CZ5IHALFxzgi",
        "outputId": "5087f442-2fd0-4fd1-ca99-31fad1fc9ea9"
      },
      "execution_count": null,
      "outputs": [
        {
          "output_type": "execute_result",
          "data": {
            "text/plain": [
              "2.0"
            ]
          },
          "metadata": {},
          "execution_count": 21
        }
      ]
    },
    {
      "cell_type": "code",
      "source": [
        "#Dot Product\n",
        "np.sum(v1*v2)"
      ],
      "metadata": {
        "colab": {
          "base_uri": "https://localhost:8080/"
        },
        "id": "gCgfjdg4x76Z",
        "outputId": "c7de7760-5521-459d-ce76-dcbcc7b92aea"
      },
      "execution_count": null,
      "outputs": [
        {
          "output_type": "execute_result",
          "data": {
            "text/plain": [
              "0"
            ]
          },
          "metadata": {},
          "execution_count": 22
        }
      ]
    },
    {
      "cell_type": "code",
      "source": [
        "v1 @ v3"
      ],
      "metadata": {
        "colab": {
          "base_uri": "https://localhost:8080/"
        },
        "id": "-f4JIf-8yvPa",
        "outputId": "38eee192-b87c-4bd3-e401-9a4620b1a2b3"
      },
      "execution_count": null,
      "outputs": [
        {
          "output_type": "execute_result",
          "data": {
            "text/plain": [
              "1.4142135623730951"
            ]
          },
          "metadata": {},
          "execution_count": 23
        }
      ]
    },
    {
      "cell_type": "code",
      "source": [
        "!python -m spacy download en_core_web_md\n"
      ],
      "metadata": {
        "id": "dTHtaslmyxd5"
      },
      "execution_count": null,
      "outputs": []
    },
    {
      "cell_type": "code",
      "source": [
        "import spacy\n",
        "\n",
        "nlp = spacy.load(\"en_core_web_md\")\n",
        "\n",
        "dog_embedding = nlp.vocab[\"dog\"].vector\n",
        "\n",
        "type(dog_embedding)\n",
        "\n",
        "\n",
        "dog_embedding.shape\n",
        "\n",
        "\n",
        "dog_embedding[0:10]"
      ],
      "metadata": {
        "colab": {
          "base_uri": "https://localhost:8080/"
        },
        "id": "dxyqHn0FMWFy",
        "outputId": "1a16d5c1-7bec-4c48-aed6-f7fdfeba5deb"
      },
      "execution_count": null,
      "outputs": [
        {
          "output_type": "execute_result",
          "data": {
            "text/plain": [
              "array([  1.233  ,   4.2963 ,  -7.9738 , -10.121  ,   1.8207 ,   1.4098 ,\n",
              "        -4.518  ,  -5.2261 ,  -0.29157,   0.95234], dtype=float32)"
            ]
          },
          "metadata": {},
          "execution_count": 29
        }
      ]
    },
    {
      "cell_type": "markdown",
      "source": [
        "https://realpython.com/chromadb-vector-database/"
      ],
      "metadata": {
        "id": "hfNSP-6DONFm"
      }
    }
  ]
}